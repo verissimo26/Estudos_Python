{
  "nbformat": 4,
  "nbformat_minor": 0,
  "metadata": {
    "colab": {
      "provenance": [],
      "mount_file_id": "1CMi3Uej0vzwhkv-4UKMvshMfm03ZVhch",
      "authorship_tag": "ABX9TyOsGnDHqLhGxuDFAJ56OLBN",
      "include_colab_link": true
    },
    "kernelspec": {
      "name": "python3",
      "display_name": "Python 3"
    },
    "language_info": {
      "name": "python"
    }
  },
  "cells": [
    {
      "cell_type": "markdown",
      "metadata": {
        "id": "view-in-github",
        "colab_type": "text"
      },
      "source": [
        "<a href=\"https://colab.research.google.com/github/verissimo26/Estudos_Python/blob/main/Curso_Basico_Python.ipynb\" target=\"_parent\"><img src=\"https://colab.research.google.com/assets/colab-badge.svg\" alt=\"Open In Colab\"/></a>"
      ]
    },
    {
      "cell_type": "code",
      "execution_count": null,
      "metadata": {
        "id": "6DSyDnAAUJUW"
      },
      "outputs": [],
      "source": []
    },
    {
      "cell_type": "code",
      "source": [
        "#import\n",
        "import os\n",
        "\n",
        "lista_arquivos = os.listdir(\"/content/drive/MyDrive/curso_basico_python/Vendas\")\n",
        "display (lista_arquivos)"
      ],
      "metadata": {
        "id": "v6n406p3VryZ"
      },
      "execution_count": null,
      "outputs": []
    },
    {
      "cell_type": "code",
      "source": [
        "for arquivo in lista_arquivos: \n",
        "  if \"Vendas\" in arquivo:\n",
        "    print (arquivo)\n",
        "  else:\n",
        "    print (\"Arquivo devolucao\")\n",
        "  "
      ],
      "metadata": {
        "id": "l_R4NrhOZMdq"
      },
      "execution_count": null,
      "outputs": []
    },
    {
      "cell_type": "code",
      "source": [
        "\n"
      ],
      "metadata": {
        "id": "uVAIfBcfdzUv"
      },
      "execution_count": null,
      "outputs": []
    },
    {
      "cell_type": "code",
      "source": [],
      "metadata": {
        "id": "JE-UqT45YMt8"
      },
      "execution_count": null,
      "outputs": []
    }
  ]
}